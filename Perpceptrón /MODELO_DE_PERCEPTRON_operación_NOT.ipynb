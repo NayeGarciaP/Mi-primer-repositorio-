{
  "nbformat": 4,
  "nbformat_minor": 0,
  "metadata": {
    "colab": {
      "provenance": [],
      "authorship_tag": "ABX9TyNWShQQpzISPVrDlIml3xmG",
      "include_colab_link": true
    },
    "kernelspec": {
      "name": "python3",
      "display_name": "Python 3"
    },
    "language_info": {
      "name": "python"
    }
  },
  "cells": [
    {
      "cell_type": "markdown",
      "metadata": {
        "id": "view-in-github",
        "colab_type": "text"
      },
      "source": [
        "<a href=\"https://colab.research.google.com/github/NayeGarciaP/Mi-primer-repositorio-/blob/main/Perpceptr%C3%B3n%20/MODELO_DE_PERCEPTRON_operaci%C3%B3n_NOT.ipynb\" target=\"_parent\"><img src=\"https://colab.research.google.com/assets/colab-badge.svg\" alt=\"Open In Colab\"/></a>"
      ]
    },
    {
      "cell_type": "markdown",
      "source": [
        "# **Modelo de Perceptron**"
      ],
      "metadata": {
        "id": "-h4KzU2qZy8A"
      }
    },
    {
      "cell_type": "markdown",
      "source": [
        "## Realizamos el modelo de perceptron para resolver el problema de la operación lógica"
      ],
      "metadata": {
        "id": "rHzHDeOdZ68i"
      }
    },
    {
      "cell_type": "markdown",
      "source": [
        "#Clase de PERCEPTRON"
      ],
      "metadata": {
        "id": "kYKFoz4gaAMf"
      }
    },
    {
      "cell_type": "code",
      "execution_count": 1,
      "metadata": {
        "id": "Q2dea9skZcD_"
      },
      "outputs": [],
      "source": [
        "class Perceptron:\n",
        "  def __init__(self, peso, sesgo, tasa_de_aprendizaje):\n",
        "    \"\"\"\n",
        "     Parámetros:\n",
        "     peso: Es un flotante\n",
        "     sesgo: Es un flotante\n",
        "     tasa_de_aprendizaje: Es un flotante\n",
        "    \"\"\"\n",
        "    self.peso = peso\n",
        "    self.sesgo = sesgo\n",
        "    self.tasa_de_aprendizaje = tasa_de_aprendizaje\n",
        "\n",
        "  def funcion_de_activacion(self, z):\n",
        "    \"\"\"\n",
        "    Parámetros:\n",
        "    Z resultado del producto de X con peso + el sesgo\n",
        "    \"\"\"\n",
        "    if z >= 0:\n",
        "      return 1\n",
        "    else:\n",
        "      return 0\n",
        "\n",
        "  def entrenamiento(self, X, Y, epocas):\n",
        "    \"\"\"\n",
        "     Parametros:\n",
        "      epocas: Es un entero\n",
        "    \"\"\"\n",
        "\n",
        "    for epoca in range(epocas):\n",
        "      for i, x in enumerate(X):\n",
        "        y_real = Y[i]\n",
        "        w = self.peso\n",
        "        b = self.sesgo\n",
        "\n",
        "        # Predicción del modelo\n",
        "        z = x*w + b\n",
        "        y_pred = self.funcion_de_activacion(z)\n",
        "        print(f\"Dato {x}, prediccion {y_pred}, valor real {y_real}\")\n",
        "\n",
        "        # Actualización del peso y sesgo\n",
        "        self.peso = w + self.tasa_de_aprendizaje * (y_real - y_pred) * x\n",
        "        self.sesgo = b + self.tasa_de_aprendizaje * (y_real - y_pred)\n",
        "        print(f\"Peso: {self.peso}, Sesgo: {self.sesgo}\")\n",
        "\n",
        "      print(f\"Epoca {epoca}, Peso: {self.peso}, Sesgo: {self.sesgo}\\n\")\n",
        "\n",
        "  def prediccion(self, X, Y):\n",
        "    for i, x in enumerate(X):\n",
        "      y_real = Y[i]\n",
        "      z = x*self.peso + self.sesgo\n",
        "      y_pred = self.funcion_de_activacion(z)\n",
        "      print(f\"Dato {x}, prediccion {y_pred}, valor real {y_real}\")"
      ]
    },
    {
      "cell_type": "code",
      "source": [
        "# Datos\n",
        "X = [0, 1]\n",
        "Y = [1, 0]"
      ],
      "metadata": {
        "id": "yzaPaLYDaZtL"
      },
      "execution_count": 2,
      "outputs": []
    },
    {
      "cell_type": "code",
      "source": [
        "# Parámetros iniciales\n",
        "peso = 0.5\n",
        "sesgo = 0\n",
        "tasa_de_aprendizaje = 0.1"
      ],
      "metadata": {
        "id": "_r8p-Ckdaf9-"
      },
      "execution_count": 3,
      "outputs": []
    },
    {
      "cell_type": "markdown",
      "source": [
        "### Inicializamos la clase"
      ],
      "metadata": {
        "id": "MCWUFZrxa1O_"
      }
    },
    {
      "cell_type": "code",
      "source": [
        "# Creamos el perceptrón\n",
        "p = Perceptron(peso, sesgo, tasa_de_aprendizaje)"
      ],
      "metadata": {
        "id": "8c0WiVsQaisz"
      },
      "execution_count": 4,
      "outputs": []
    },
    {
      "cell_type": "markdown",
      "source": [
        "# Entrenamiento"
      ],
      "metadata": {
        "id": "m_o2v_VZa68C"
      }
    },
    {
      "cell_type": "code",
      "source": [
        "epoca = 10\n",
        "p.entrenamiento(X, Y, epoca)"
      ],
      "metadata": {
        "colab": {
          "base_uri": "https://localhost:8080/"
        },
        "id": "aSgb9OEjamHp",
        "outputId": "dc1f1c67-3f81-48bc-9bc7-f256ae94a956"
      },
      "execution_count": 5,
      "outputs": [
        {
          "output_type": "stream",
          "name": "stdout",
          "text": [
            "Dato 0, prediccion 1, valor real 1\n",
            "Peso: 0.5, Sesgo: 0.0\n",
            "Dato 1, prediccion 1, valor real 0\n",
            "Peso: 0.4, Sesgo: -0.1\n",
            "Epoca 0, Peso: 0.4, Sesgo: -0.1\n",
            "\n",
            "Dato 0, prediccion 0, valor real 1\n",
            "Peso: 0.4, Sesgo: 0.0\n",
            "Dato 1, prediccion 1, valor real 0\n",
            "Peso: 0.30000000000000004, Sesgo: -0.1\n",
            "Epoca 1, Peso: 0.30000000000000004, Sesgo: -0.1\n",
            "\n",
            "Dato 0, prediccion 0, valor real 1\n",
            "Peso: 0.30000000000000004, Sesgo: 0.0\n",
            "Dato 1, prediccion 1, valor real 0\n",
            "Peso: 0.20000000000000004, Sesgo: -0.1\n",
            "Epoca 2, Peso: 0.20000000000000004, Sesgo: -0.1\n",
            "\n",
            "Dato 0, prediccion 0, valor real 1\n",
            "Peso: 0.20000000000000004, Sesgo: 0.0\n",
            "Dato 1, prediccion 1, valor real 0\n",
            "Peso: 0.10000000000000003, Sesgo: -0.1\n",
            "Epoca 3, Peso: 0.10000000000000003, Sesgo: -0.1\n",
            "\n",
            "Dato 0, prediccion 0, valor real 1\n",
            "Peso: 0.10000000000000003, Sesgo: 0.0\n",
            "Dato 1, prediccion 1, valor real 0\n",
            "Peso: 2.7755575615628914e-17, Sesgo: -0.1\n",
            "Epoca 4, Peso: 2.7755575615628914e-17, Sesgo: -0.1\n",
            "\n",
            "Dato 0, prediccion 0, valor real 1\n",
            "Peso: 2.7755575615628914e-17, Sesgo: 0.0\n",
            "Dato 1, prediccion 1, valor real 0\n",
            "Peso: -0.09999999999999998, Sesgo: -0.1\n",
            "Epoca 5, Peso: -0.09999999999999998, Sesgo: -0.1\n",
            "\n",
            "Dato 0, prediccion 0, valor real 1\n",
            "Peso: -0.09999999999999998, Sesgo: 0.0\n",
            "Dato 1, prediccion 0, valor real 0\n",
            "Peso: -0.09999999999999998, Sesgo: 0.0\n",
            "Epoca 6, Peso: -0.09999999999999998, Sesgo: 0.0\n",
            "\n",
            "Dato 0, prediccion 1, valor real 1\n",
            "Peso: -0.09999999999999998, Sesgo: 0.0\n",
            "Dato 1, prediccion 0, valor real 0\n",
            "Peso: -0.09999999999999998, Sesgo: 0.0\n",
            "Epoca 7, Peso: -0.09999999999999998, Sesgo: 0.0\n",
            "\n",
            "Dato 0, prediccion 1, valor real 1\n",
            "Peso: -0.09999999999999998, Sesgo: 0.0\n",
            "Dato 1, prediccion 0, valor real 0\n",
            "Peso: -0.09999999999999998, Sesgo: 0.0\n",
            "Epoca 8, Peso: -0.09999999999999998, Sesgo: 0.0\n",
            "\n",
            "Dato 0, prediccion 1, valor real 1\n",
            "Peso: -0.09999999999999998, Sesgo: 0.0\n",
            "Dato 1, prediccion 0, valor real 0\n",
            "Peso: -0.09999999999999998, Sesgo: 0.0\n",
            "Epoca 9, Peso: -0.09999999999999998, Sesgo: 0.0\n",
            "\n"
          ]
        }
      ]
    },
    {
      "cell_type": "code",
      "source": [
        "print(\"\\n--- Resultados finales ---\")\n",
        "p.prediccion(X, Y)"
      ],
      "metadata": {
        "colab": {
          "base_uri": "https://localhost:8080/"
        },
        "id": "BLL7WfDGaoaO",
        "outputId": "3edf0d24-a409-4116-a0ff-cf31c98a92ff"
      },
      "execution_count": 6,
      "outputs": [
        {
          "output_type": "stream",
          "name": "stdout",
          "text": [
            "\n",
            "--- Resultados finales ---\n",
            "Dato 0, prediccion 1, valor real 1\n",
            "Dato 1, prediccion 0, valor real 0\n"
          ]
        }
      ]
    },
    {
      "cell_type": "markdown",
      "source": [
        "La neurona entrena un perceptrón para aprender la operación lógica NOT, que devuelve el valor contrario de la entrada: si la entrada es 0, la salida es 1, y si la entrada es 1, la salida es 0, tomando la entrada x, multiplicandola por el peso y le suma el sesgo.\n",
        "Despues le aplica la función de activación y si el resultado es mayor o igual a 0 devuelve 1, si no devuelve 0.\n",
        "\n",
        "Durante el entrenamiento, el perceptrón ajusta el peso y el sesgo según el error (diferencia entre el valor real y la prediccion)."
      ],
      "metadata": {
        "id": "2Vl6-QElcGAE"
      }
    }
  ]
}