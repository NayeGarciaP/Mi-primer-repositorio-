{
  "nbformat": 4,
  "nbformat_minor": 0,
  "metadata": {
    "colab": {
      "provenance": [],
      "authorship_tag": "ABX9TyNWk1mX2FJVo5+MnFFHTsOo",
      "include_colab_link": true
    },
    "kernelspec": {
      "name": "python3",
      "display_name": "Python 3"
    },
    "language_info": {
      "name": "python"
    }
  },
  "cells": [
    {
      "cell_type": "markdown",
      "metadata": {
        "id": "view-in-github",
        "colab_type": "text"
      },
      "source": [
        "<a href=\"https://colab.research.google.com/github/NayeGarciaP/Mi-primer-repositorio-/blob/main/Perpceptr%C3%B3n/MODELO_DE_PERCEPTRON_operaci%C3%B3n_OR.ipynb\" target=\"_parent\"><img src=\"https://colab.research.google.com/assets/colab-badge.svg\" alt=\"Open In Colab\"/></a>"
      ]
    },
    {
      "cell_type": "markdown",
      "source": [
        "# **Modelo de Perceptron**"
      ],
      "metadata": {
        "id": "lSnf5dY1TJj3"
      }
    },
    {
      "cell_type": "markdown",
      "source": [
        "## **Realizamos el modelo de Perceptron para resolver el problema de la operacion lógica **"
      ],
      "metadata": {
        "id": "KkYK0qUgTS4X"
      }
    },
    {
      "cell_type": "markdown",
      "source": [
        "## **Clase de Perceptron**"
      ],
      "metadata": {
        "id": "Tdf9hrlfTv1K"
      }
    },
    {
      "cell_type": "code",
      "execution_count": null,
      "metadata": {
        "id": "q3JmgW0hTE_d"
      },
      "outputs": [],
      "source": [
        "class Perceptron:\n",
        "  def __init__(self, pesos, sesgos, tasa_de_aprendizaje):\n",
        "    \"\"\"\n",
        "     Parámetros:\n",
        "     pesos: Es una lista\n",
        "     sesgo: Es un flotante\n",
        "     tasa_de_aprendizaje: Es un flotante\n",
        "    \"\"\"\n",
        "    self.pesos = pesos\n",
        "    self.sesgo = sesgos\n",
        "    self.tasa_de_aprendizaje = tasa_de_aprendizaje\n",
        "\n",
        "  def funcion_de_activacion(self, z):\n",
        "    \"\"\"\n",
        "    Parámetros:\n",
        "    Z resultado del producto de X con pesos + el sesgo\n",
        "    \"\"\"\n",
        "    if z >= 0:\n",
        "      return 1\n",
        "    else:\n",
        "      return 0\n",
        "\n",
        "  def entrenamiento(self, X, Y, epocas):\n",
        "    \"\"\"\n",
        "     Parametros:\n",
        "      epocas: Es un entero\n",
        "    \"\"\"\n",
        "\n",
        "    for epoca in range (epocas): # cuantas veces recorre las épocas\n",
        "      for dato in X:\n",
        "        # definimos los datos\n",
        "        x1= dato[0]\n",
        "        x2= dato[1]\n",
        "        indice= X.index(dato)\n",
        "        y_real= Y[indice]\n",
        "        w1= self.pesos[0]\n",
        "        w2= self.pesos[1]\n",
        "        b= self.sesgo\n",
        "\n",
        "        # Hacemos la prediccion del modelo\n",
        "        z= x1*w1 + x2*w2 + b\n",
        "        y_pred= self.funcion_de_activacion(z)\n",
        "        print(f\"Dato {dato}, prediccion {y_pred}, valor real {y_real}\")\n",
        "\n",
        "        # Actualizamos los pesos\n",
        "        self.pesos[0] = w1 + self.tasa_de_aprendizaje * (y_real - y_pred) * x1\n",
        "        self.pesos[1] = w2 + self.tasa_de_aprendizaje * (y_real - y_pred) * x2\n",
        "        self.sesgo = b + self.tasa_de_aprendizaje * (y_real - y_pred)\n",
        "        print(f\"Dato {dato}, pesos: {self.pesos} y el sesgo es {self.sesgo}\")\n",
        "\n",
        "      print(f\"Epoca {epoca}, pesos: {self.pesos} y sesgo: {self.sesgo}\\n\")\n",
        "\n",
        "  def prediccion(self, X, Y):\n",
        "    for dato in X:\n",
        "      x1= dato[0]\n",
        "      x2= dato[1]\n",
        "      indice= X.index(dato)\n",
        "      y_real= Y[indice]\n",
        "      w1= self.pesos[0]\n",
        "      w2= self.pesos[1]\n",
        "      b= self.sesgo\n",
        "      z= x1*w1 + x2*w2 + b\n",
        "      y_pred= self.funcion_de_activacion(z)\n",
        "      print(f\"Dato {dato}, prediccion {y_pred}, valor real {y_real}\")"
      ]
    },
    {
      "cell_type": "code",
      "source": [
        "# Datos\n",
        "X=[[0,0], [0,1], [1,0], [1,1]]\n",
        "Y= [0,1,1,1]"
      ],
      "metadata": {
        "id": "bmXkc-sjU1Rg"
      },
      "execution_count": 5,
      "outputs": []
    },
    {
      "cell_type": "code",
      "source": [
        "# Parámetros iniciales\n",
        "sesgo = 0\n",
        "pesos = [0.5, 0.5]\n",
        "tasa_de_aprendizaje = 0.1"
      ],
      "metadata": {
        "id": "c5G65oH4U2Ic"
      },
      "execution_count": null,
      "outputs": []
    },
    {
      "cell_type": "markdown",
      "source": [
        "# Inicializamos la clase\n",
        "\n",
        "\n",
        "\n"
      ],
      "metadata": {
        "id": "lL3h-WC5Wr3w"
      }
    },
    {
      "cell_type": "code",
      "source": [
        "# Creamos el perceptrón\n",
        "p = Perceptron(pesos, sesgo, tasa_de_aprendizaje)"
      ],
      "metadata": {
        "id": "TE8ktOqDVkEf"
      },
      "execution_count": 6,
      "outputs": []
    },
    {
      "cell_type": "markdown",
      "source": [
        "# Entrenamiento"
      ],
      "metadata": {
        "id": "yxb0jZtTWeVc"
      }
    },
    {
      "cell_type": "code",
      "source": [
        "epoca = 10\n",
        "p.entrenamiento(X, Y, epoca)"
      ],
      "metadata": {
        "id": "hUuQioNGV4Sb",
        "colab": {
          "base_uri": "https://localhost:8080/"
        },
        "outputId": "106e9838-01f8-4486-859d-8175f803d3fa"
      },
      "execution_count": 7,
      "outputs": [
        {
          "output_type": "stream",
          "name": "stdout",
          "text": [
            "Dato [0, 0], prediccion 1, valor real 0\n",
            "Dato [0, 0], pesos: [0.5, 0.5] y el sesgo es -0.1\n",
            "Dato [0, 1], prediccion 1, valor real 1\n",
            "Dato [0, 1], pesos: [0.5, 0.5] y el sesgo es -0.1\n",
            "Dato [1, 0], prediccion 1, valor real 1\n",
            "Dato [1, 0], pesos: [0.5, 0.5] y el sesgo es -0.1\n",
            "Dato [1, 1], prediccion 1, valor real 1\n",
            "Dato [1, 1], pesos: [0.5, 0.5] y el sesgo es -0.1\n",
            "Epoca 0, pesos: [0.5, 0.5] y sesgo: -0.1\n",
            "\n",
            "Dato [0, 0], prediccion 0, valor real 0\n",
            "Dato [0, 0], pesos: [0.5, 0.5] y el sesgo es -0.1\n",
            "Dato [0, 1], prediccion 1, valor real 1\n",
            "Dato [0, 1], pesos: [0.5, 0.5] y el sesgo es -0.1\n",
            "Dato [1, 0], prediccion 1, valor real 1\n",
            "Dato [1, 0], pesos: [0.5, 0.5] y el sesgo es -0.1\n",
            "Dato [1, 1], prediccion 1, valor real 1\n",
            "Dato [1, 1], pesos: [0.5, 0.5] y el sesgo es -0.1\n",
            "Epoca 1, pesos: [0.5, 0.5] y sesgo: -0.1\n",
            "\n",
            "Dato [0, 0], prediccion 0, valor real 0\n",
            "Dato [0, 0], pesos: [0.5, 0.5] y el sesgo es -0.1\n",
            "Dato [0, 1], prediccion 1, valor real 1\n",
            "Dato [0, 1], pesos: [0.5, 0.5] y el sesgo es -0.1\n",
            "Dato [1, 0], prediccion 1, valor real 1\n",
            "Dato [1, 0], pesos: [0.5, 0.5] y el sesgo es -0.1\n",
            "Dato [1, 1], prediccion 1, valor real 1\n",
            "Dato [1, 1], pesos: [0.5, 0.5] y el sesgo es -0.1\n",
            "Epoca 2, pesos: [0.5, 0.5] y sesgo: -0.1\n",
            "\n",
            "Dato [0, 0], prediccion 0, valor real 0\n",
            "Dato [0, 0], pesos: [0.5, 0.5] y el sesgo es -0.1\n",
            "Dato [0, 1], prediccion 1, valor real 1\n",
            "Dato [0, 1], pesos: [0.5, 0.5] y el sesgo es -0.1\n",
            "Dato [1, 0], prediccion 1, valor real 1\n",
            "Dato [1, 0], pesos: [0.5, 0.5] y el sesgo es -0.1\n",
            "Dato [1, 1], prediccion 1, valor real 1\n",
            "Dato [1, 1], pesos: [0.5, 0.5] y el sesgo es -0.1\n",
            "Epoca 3, pesos: [0.5, 0.5] y sesgo: -0.1\n",
            "\n",
            "Dato [0, 0], prediccion 0, valor real 0\n",
            "Dato [0, 0], pesos: [0.5, 0.5] y el sesgo es -0.1\n",
            "Dato [0, 1], prediccion 1, valor real 1\n",
            "Dato [0, 1], pesos: [0.5, 0.5] y el sesgo es -0.1\n",
            "Dato [1, 0], prediccion 1, valor real 1\n",
            "Dato [1, 0], pesos: [0.5, 0.5] y el sesgo es -0.1\n",
            "Dato [1, 1], prediccion 1, valor real 1\n",
            "Dato [1, 1], pesos: [0.5, 0.5] y el sesgo es -0.1\n",
            "Epoca 4, pesos: [0.5, 0.5] y sesgo: -0.1\n",
            "\n",
            "Dato [0, 0], prediccion 0, valor real 0\n",
            "Dato [0, 0], pesos: [0.5, 0.5] y el sesgo es -0.1\n",
            "Dato [0, 1], prediccion 1, valor real 1\n",
            "Dato [0, 1], pesos: [0.5, 0.5] y el sesgo es -0.1\n",
            "Dato [1, 0], prediccion 1, valor real 1\n",
            "Dato [1, 0], pesos: [0.5, 0.5] y el sesgo es -0.1\n",
            "Dato [1, 1], prediccion 1, valor real 1\n",
            "Dato [1, 1], pesos: [0.5, 0.5] y el sesgo es -0.1\n",
            "Epoca 5, pesos: [0.5, 0.5] y sesgo: -0.1\n",
            "\n",
            "Dato [0, 0], prediccion 0, valor real 0\n",
            "Dato [0, 0], pesos: [0.5, 0.5] y el sesgo es -0.1\n",
            "Dato [0, 1], prediccion 1, valor real 1\n",
            "Dato [0, 1], pesos: [0.5, 0.5] y el sesgo es -0.1\n",
            "Dato [1, 0], prediccion 1, valor real 1\n",
            "Dato [1, 0], pesos: [0.5, 0.5] y el sesgo es -0.1\n",
            "Dato [1, 1], prediccion 1, valor real 1\n",
            "Dato [1, 1], pesos: [0.5, 0.5] y el sesgo es -0.1\n",
            "Epoca 6, pesos: [0.5, 0.5] y sesgo: -0.1\n",
            "\n",
            "Dato [0, 0], prediccion 0, valor real 0\n",
            "Dato [0, 0], pesos: [0.5, 0.5] y el sesgo es -0.1\n",
            "Dato [0, 1], prediccion 1, valor real 1\n",
            "Dato [0, 1], pesos: [0.5, 0.5] y el sesgo es -0.1\n",
            "Dato [1, 0], prediccion 1, valor real 1\n",
            "Dato [1, 0], pesos: [0.5, 0.5] y el sesgo es -0.1\n",
            "Dato [1, 1], prediccion 1, valor real 1\n",
            "Dato [1, 1], pesos: [0.5, 0.5] y el sesgo es -0.1\n",
            "Epoca 7, pesos: [0.5, 0.5] y sesgo: -0.1\n",
            "\n",
            "Dato [0, 0], prediccion 0, valor real 0\n",
            "Dato [0, 0], pesos: [0.5, 0.5] y el sesgo es -0.1\n",
            "Dato [0, 1], prediccion 1, valor real 1\n",
            "Dato [0, 1], pesos: [0.5, 0.5] y el sesgo es -0.1\n",
            "Dato [1, 0], prediccion 1, valor real 1\n",
            "Dato [1, 0], pesos: [0.5, 0.5] y el sesgo es -0.1\n",
            "Dato [1, 1], prediccion 1, valor real 1\n",
            "Dato [1, 1], pesos: [0.5, 0.5] y el sesgo es -0.1\n",
            "Epoca 8, pesos: [0.5, 0.5] y sesgo: -0.1\n",
            "\n",
            "Dato [0, 0], prediccion 0, valor real 0\n",
            "Dato [0, 0], pesos: [0.5, 0.5] y el sesgo es -0.1\n",
            "Dato [0, 1], prediccion 1, valor real 1\n",
            "Dato [0, 1], pesos: [0.5, 0.5] y el sesgo es -0.1\n",
            "Dato [1, 0], prediccion 1, valor real 1\n",
            "Dato [1, 0], pesos: [0.5, 0.5] y el sesgo es -0.1\n",
            "Dato [1, 1], prediccion 1, valor real 1\n",
            "Dato [1, 1], pesos: [0.5, 0.5] y el sesgo es -0.1\n",
            "Epoca 9, pesos: [0.5, 0.5] y sesgo: -0.1\n",
            "\n"
          ]
        }
      ]
    },
    {
      "cell_type": "markdown",
      "source": [
        "La neurona entrena un perceptrón para aprender la operación lógica OR, la cual devuelve 1 cuando al menos una de las entradas es 1, tomando las entradas x1 y x2 para multiplicarlas por los pesos, les suma el sesgo y aplica una función de activación (si el resultado es mayor o igual que 0 devuelve 1, de lo contrario 0).\n",
        "\n",
        "Durante el entrenamiento, los pesos y el sesgo se van ajustando con base en el error entre el valor real y la predicción.\n",
        "Después de varias épocas, la neurona aprende el comportamiento de OR."
      ],
      "metadata": {
        "id": "2Zqsu5xmXhI_"
      }
    }
  ]
}