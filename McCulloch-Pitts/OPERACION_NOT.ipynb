{
  "nbformat": 4,
  "nbformat_minor": 0,
  "metadata": {
    "colab": {
      "provenance": [],
      "authorship_tag": "ABX9TyMirOQO13Ata99AJdBovLDy",
      "include_colab_link": true
    },
    "kernelspec": {
      "name": "python3",
      "display_name": "Python 3"
    },
    "language_info": {
      "name": "python"
    }
  },
  "cells": [
    {
      "cell_type": "markdown",
      "metadata": {
        "id": "view-in-github",
        "colab_type": "text"
      },
      "source": [
        "<a href=\"https://colab.research.google.com/github/NayeGarciaP/Mi-primer-repositorio-/blob/main/McCulloch-Pitts/OPERACION_NOT.ipynb\" target=\"_parent\"><img src=\"https://colab.research.google.com/assets/colab-badge.svg\" alt=\"Open In Colab\"/></a>"
      ]
    },
    {
      "cell_type": "markdown",
      "source": [
        "# EJEMPLO DE OPERACIÓN **NOT**"
      ],
      "metadata": {
        "id": "1R-Guh4WRk4e"
      }
    },
    {
      "cell_type": "code",
      "execution_count": null,
      "metadata": {
        "colab": {
          "base_uri": "https://localhost:8080/"
        },
        "id": "DW3VkbdlRgAi",
        "outputId": "e7aae0b8-ce76-4fcd-86a2-456f58cb2157"
      },
      "outputs": [
        {
          "output_type": "stream",
          "name": "stdout",
          "text": [
            "Input: [0], Weighted Sum: 0\n",
            "Input: [1], Weighted Sum: -1\n",
            "Predicciones NOT: [1, 0]\n",
            "Esperado: [1 0]\n"
          ]
        }
      ],
      "source": [
        "import numpy as np\n",
        "\n",
        "# Entradas para la neurona\n",
        "X = np.array([\n",
        "    [0],\n",
        "    [1]\n",
        "])\n",
        "\n",
        "# Salidas esperadas para NOT\n",
        "# NOT(0) = 1, NOT(1) = 0\n",
        "Y = np.array([1, 0])\n",
        "\n",
        "#Definimos el peso de la entrada con un peso negativo\n",
        "# ya que queremos que nos de lo contrario\n",
        "W = [-1]\n",
        "\n",
        "# El umbral 0 va a definir cuándo la neurona se active, ya que sí\n",
        "# la suma ponderada es mayor o igual al umbral la salida = 1.\n",
        "# Si es menor la salida = 0.\n",
        "umbral = 0\n",
        "\n",
        "#Definimos la clase McCullochPitts, que representa la neurona\n",
        "class McCullochPitts:\n",
        "    def __init__(self, weights, umbral):\n",
        "        self.weights = weights\n",
        "        self.umbral = umbral\n",
        "\n",
        "#Definimos la función predict, que va a calcular la salida de la neurona\n",
        "    def predict(self, X):\n",
        "        predictions = []\n",
        "        for i in range(X.shape[0]):\n",
        "            weighted_sum = np.dot(self.weights, X[i])\n",
        "            print(f\"Input: {X[i]}, Weighted Sum: {weighted_sum}\")\n",
        "            if weighted_sum >= self.umbral:\n",
        "                predictions.append(1)\n",
        "            else:\n",
        "                predictions.append(0)\n",
        "        return predictions\n",
        "\n",
        "# Instanciamos la neurona\n",
        "mcp = McCullochPitts(W, umbral)\n",
        "\n",
        "# Calculamos predicciones\n",
        "predictions = mcp.predict(X)\n",
        "\n",
        "print(\"Predicciones NOT:\", predictions)\n",
        "print(\"Esperado:\", Y)\n"
      ]
    },
    {
      "cell_type": "markdown",
      "source": [
        "La neurona McCulloch-Pitts para NOT utiliza un solo peso negativo para invertir la entrada.\n",
        "Con un umbral en 0, si la entrada es 0, la neurona se activa y da 1.\n",
        "Si la entrada es 1, la suma ponderada es negativa y no alcanza el umbral, por lo que da 0."
      ],
      "metadata": {
        "id": "-zGcFARzXpno"
      }
    },
    {
      "cell_type": "code",
      "source": [
        "\n"
      ],
      "metadata": {
        "id": "azkl9q_L55gi"
      },
      "execution_count": null,
      "outputs": []
    }
  ]
}