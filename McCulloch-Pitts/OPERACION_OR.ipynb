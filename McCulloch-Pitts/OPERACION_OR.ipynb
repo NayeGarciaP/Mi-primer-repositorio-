{
  "nbformat": 4,
  "nbformat_minor": 0,
  "metadata": {
    "colab": {
      "provenance": [],
      "authorship_tag": "ABX9TyMteBK8MJUhWD2r6gEYO151",
      "include_colab_link": true
    },
    "kernelspec": {
      "name": "python3",
      "display_name": "Python 3"
    },
    "language_info": {
      "name": "python"
    }
  },
  "cells": [
    {
      "cell_type": "markdown",
      "metadata": {
        "id": "view-in-github",
        "colab_type": "text"
      },
      "source": [
        "<a href=\"https://colab.research.google.com/github/NayeGarciaP/Mi-primer-repositorio-/blob/main/McCulloch-Pitts/OPERACION_OR.ipynb\" target=\"_parent\"><img src=\"https://colab.research.google.com/assets/colab-badge.svg\" alt=\"Open In Colab\"/></a>"
      ]
    },
    {
      "cell_type": "markdown",
      "source": [
        "# **Ejemplo de la operación OR**"
      ],
      "metadata": {
        "id": "9BriHU9fOLJx"
      }
    },
    {
      "cell_type": "code",
      "execution_count": null,
      "metadata": {
        "colab": {
          "base_uri": "https://localhost:8080/"
        },
        "id": "MhRWRBLXOHKt",
        "outputId": "82d801c0-6486-4784-b8c4-fc4c31cec7fc"
      },
      "outputs": [
        {
          "output_type": "stream",
          "name": "stdout",
          "text": [
            "Input: [0 0], Weighted Sum: 0\n",
            "Input: [0 1], Weighted Sum: 1\n",
            "Input: [1 0], Weighted Sum: 1\n",
            "Input: [1 1], Weighted Sum: 2\n",
            "Predicciones OR: [0, 1, 1, 1]\n",
            "Esperado: [0 1 1 1]\n"
          ]
        }
      ],
      "source": [
        "import numpy as np\n",
        "\n",
        "# Entradas para la neurona\n",
        "X = np.array([\n",
        "    [0, 0],\n",
        "    [0, 1],\n",
        "    [1, 0],\n",
        "    [1, 1]\n",
        "])\n",
        "\n",
        "# Salidas esperadas para OR\n",
        "# (solo será 0 cuando ambas entradas sean 0)\n",
        "Y = np.array([0, 1, 1, 1])\n",
        "\n",
        "# Pesos para las entradas\n",
        "W = [1, 1]\n",
        "\n",
        "# Umbral para OR (se activa con al menos una entrada en 1)\n",
        "umbral = 1\n",
        "# Creamos la clase de la neurona McCullochPitts.\n",
        "class McCullochPitts:\n",
        "    def __init__(self, weights, umbral):\n",
        "        self.weights = weights\n",
        "        self.umbral = umbral\n",
        "#calculamos la salida de la neurona para cada entrada.\n",
        "    def predict(self, X):\n",
        "        predictions = []\n",
        "        for i in range(X.shape[0]):\n",
        "            weighted_sum = np.dot(self.weights, X[i])\n",
        "            print(f\"Input: {X[i]}, Weighted Sum: {weighted_sum}\")\n",
        "            if weighted_sum >= self.umbral:\n",
        "                predictions.append(1)\n",
        "            else:\n",
        "                predictions.append(0)\n",
        "        return predictions\n",
        "\n",
        "# Instanciamos la neurona\n",
        "mcp = McCullochPitts(W, umbral)\n",
        "\n",
        "# Calculamos predicciones de las salidas de la neurona con todas las entradas X.\n",
        "predictions = mcp.predict(X)\n",
        "\n",
        "print(\"Predicciones OR:\", predictions)\n",
        "print(\"Esperado:\", Y)"
      ]
    },
    {
      "cell_type": "markdown",
      "source": [
        "La neurona McCulloch-Pitts para OR recibe dos entradas (X1 y X2), que serán las que va a multiplicar a cada una de sus entradas por su peso y a su vez sumara sus resultados.\n",
        "\n",
        "Se activará solo si al menos una entrada es 1 y devolvera 1 y su salida será 0 cuando ambas entradas sean 0.\n"
      ],
      "metadata": {
        "id": "zYvpuvqYVmAl"
      }
    }
  ]
}